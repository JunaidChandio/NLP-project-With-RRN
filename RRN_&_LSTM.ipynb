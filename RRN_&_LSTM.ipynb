{
  "nbformat": 4,
  "nbformat_minor": 0,
  "metadata": {
    "colab": {
      "provenance": [],
      "gpuType": "T4"
    },
    "kernelspec": {
      "name": "python3",
      "display_name": "Python 3"
    },
    "language_info": {
      "name": "python"
    },
    "accelerator": "GPU"
  },
  "cells": [
    {
      "cell_type": "code",
      "execution_count": 53,
      "metadata": {
        "id": "zenTBwtPlg7H"
      },
      "outputs": [],
      "source": [
        "import numpy as np\n",
        "import tensorflow as tf\n",
        "from tensorflow.keras.models import Sequential\n",
        "from tensorflow.keras.layers import Dense,SimpleRNN,LSTM,Embedding\n",
        "from tensorflow.keras.preprocessing.text import Tokenizer\n",
        "from tensorflow.keras.preprocessing.sequence import pad_sequences"
      ]
    },
    {
      "cell_type": "code",
      "source": [
        "sentences = [\n",
        "    \"Python is popular for machine learning due to simplicity.\",\n",
        "    \"Scikit-learn is a powerful library for classical algorithms.\",\n",
        "    \"TensorFlow is used for building neural networks.\",\n",
        "    \"PyTorch offers dynamic computation graphs for models.\",\n",
        "    \"Pandas is essential for data manipulation in projects.\",\n",
        "    \"Numpy supports large arrays and matrices.\",\n",
        "    \"Matplotlib is used for data visualization.\",\n",
        "    \"Seaborn provides a high-level interface for plotting.\",\n",
        "    \"Keras is an API for building neural networks.\",\n",
        "    \"Jupyter Notebooks are ideal for interactive experiments.\",\n",
        "    \"Feature engineering improves model performance.\",\n",
        "    \"Data cleaning is the first step in any pipeline.\",\n",
        "    \"Hyperparameter tuning boosts model accuracy.\",\n",
        "    \"Cross-validation evaluates model robustness.\",\n",
        "    \"Overfitting occurs when a model learns noise.\",\n",
        "    \"Underfitting happens when a model is too simple.\",\n",
        "    \"Regularization helps combat overfitting.\",\n",
        "    \"Train-test split is fundamental for evaluation.\",\n",
        "    \"Random Forest is an ensemble method with trees.\",\n",
        "    \"Support Vector Machines work for high-dimensional spaces.\",\n",
        "    \"K-Nearest Neighbors is a simple learning algorithm.\",\n",
        "    \"Gradient Boosting combines weak learners effectively.\",\n",
        "    \"Logistic Regression is for binary classification.\",\n",
        "    \"Linear Regression is basic regression analysis.\",\n",
        "    \"Naive Bayes is a probabilistic classifier.\",\n",
        "    \"Principal Component Analysis reduces dimensionality.\",\n",
        "    \"Clustering algorithms group similar data points.\",\n",
        "    \"K-Means is a popular clustering algorithm.\",\n",
        "    \"Hierarchical Clustering builds a tree of clusters.\",\n",
        "    \"Reinforcement Learning trains agents to make decisions.\",\n",
        "    \"Deep Learning models mimic the human brain.\",\n",
        "    \"Convolutional Neural Networks excel in image tasks.\",\n",
        "    \"Recurrent Neural Networks handle sequential data.\",\n",
        "    \"LSTMs manage long-term dependencies in sequences.\",\n",
        "    \"Transfer learning uses pre-trained model weights.\",\n",
        "    \"Autoencoders are for unsupervised learning tasks.\",\n",
        "    \"GANs generate data similar to training set.\",\n",
        "    \"Ensemble methods improve model predictions.\",\n",
        "    \"Bagging reduces variance and prevents overfitting.\",\n",
        "    \"Boosting reduces bias in models.\",\n",
        "    \"AdaBoost is a popular boosting technique.\",\n",
        "    \"XGBoost is known for speed and performance.\",\n",
        "    \"LightGBM is efficient for distributed training.\",\n",
        "    \"CatBoost handles categorical features automatically.\",\n",
        "    \"Feature selection reduces model complexity.\",\n",
        "    \"One-hot encoding converts categorical variables.\",\n",
        "    \"Label encoding assigns integers to categories.\",\n",
        "    \"Data augmentation increases training diversity.\",\n",
        "    \"Batch normalization speeds up training.\",\n",
        "    \"Dropout prevents overfitting in models.\",\n",
        "    \"Learning rate schedules adjust rates during training.\",\n",
        "    \"Early stopping halts when validation decreases.\",\n",
        "    \"Model checkpoints save the best model.\",\n",
        "    \"TensorBoard visualizes TensorFlow models.\",\n",
        "    \"PyTorch Lightning is a wrapper for PyTorch.\",\n",
        "    \"Scipy is used for scientific computing.\",\n",
        "    \"OpenCV is for computer vision applications.\",\n",
        "    \"NLP tasks use SpaCy and NLTK libraries.\",\n",
        "    \"BERT is state-of-the-art for NLP.\",\n",
        "    \"Tokenization splits text into tokens.\",\n",
        "    \"Word embeddings represent words as vectors.\",\n",
        "    \"Sentiment analysis determines text sentiment.\",\n",
        "    \"Time series forecasting predicts future data.\",\n",
        "    \"ARIMA is popular for time series analysis.\",\n",
        "    \"Prophet is a tool for forecasting.\",\n",
        "    \"Anomaly detection identifies rare events.\",\n",
        "    \"Data imputation fills missing values.\",\n",
        "    \"SMOTE handles imbalanced datasets.\",\n",
        "    \"ROC curve evaluates classification models.\",\n",
        "    \"Precision and recall assess classification accuracy.\",\n",
        "    \"F1 score is the harmonic mean of precision and recall.\",\n",
        "    \"Confusion matrix summarizes prediction results.\",\n",
        "    \"Grid search optimizes hyperparameters.\",\n",
        "    \"Random search explores hyperparameter space.\",\n",
        "    \"Bayesian optimization tunes hyperparameters efficiently.\",\n",
        "    \"Feature scaling normalizes features.\",\n",
        "    \"Pipelines automate machine learning workflows.\",\n",
        "    \"Dask enables parallel computing in Python.\",\n",
        "    \"Apache Spark is for distributed computing.\",\n",
        "    \"ELU activation helps in learning patterns.\",\n",
        "    \"Leaky ReLU addresses 'dying ReLU' problem.\",\n",
        "    \"Sigmoid activation is for binary tasks.\",\n",
        "    \"Softmax is for multi-class classification.\",\n",
        "    \"Adam optimizer is used for training models.\",\n",
        "    \"RMSprop adapts learning rates.\",\n",
        "    \"SGD with momentum accelerates gradients.\",\n",
        "    \"Backpropagation updates neural network weights.\",\n",
        "    \"Weight initialization affects convergence.\",\n",
        "    \"Data pipelines manage data flow.\",\n",
        "    \"Azure Machine Learning provides cloud services.\",\n",
        "    \"Google Cloud AI offers AI tools.\",\n",
        "    \"Amazon SageMaker simplifies model deployment.\",\n",
        "    \"IBM Watson provides AI application tools.\",\n",
        "    \"sklearn.metrics provides evaluation metrics.\",\n",
        "    \"sklearn.model_selection has data splitting tools.\",\n",
        "    \"imbalanced-learn handles class imbalance.\",\n",
        "    \"sklearn.decomposition offers dimensionality reduction.\",\n",
        "    \"sklearn.ensemble provides ensemble methods.\",\n",
        "    \"sklearn.feature_selection helps select features.\",\n",
        "    \"sklearn.preprocessing is used for preprocessing.\"\n",
        "]"
      ],
      "metadata": {
        "id": "7-Io0vfnTXEe"
      },
      "execution_count": 54,
      "outputs": []
    },
    {
      "cell_type": "code",
      "source": [
        "print(len(sentences))"
      ],
      "metadata": {
        "colab": {
          "base_uri": "https://localhost:8080/"
        },
        "id": "zdNiEakAqMCt",
        "outputId": "126b61ff-c8b5-47a9-8c93-07f87b48eb94"
      },
      "execution_count": 55,
      "outputs": [
        {
          "output_type": "stream",
          "name": "stdout",
          "text": [
            "100\n"
          ]
        }
      ]
    },
    {
      "cell_type": "code",
      "source": [
        "tokenizer=Tokenizer()\n",
        "tokenizer.fit_on_texts(sentences)\n",
        "total_word=len(tokenizer.word_index)+1\n",
        "print(total_word)\n",
        "print(tokenizer.word_index)\n",
        "\n",
        "input_sequence=[]\n",
        "\n",
        "for line in sentences:\n",
        "  token_list=tokenizer.texts_to_sequences([line])[0]\n",
        "  for i in range(1,len(token_list)):\n",
        "    n_gram_sequences=token_list[:i+1]\n",
        "    input_sequence.append(n_gram_sequences)\n",
        "\n",
        "\n",
        "max_sequence_len=max([len(x) for x in input_sequence])\n",
        "input_sequence=np.array(pad_sequences(input_sequence,maxlen=max_sequence_len,padding='pre'))\n",
        "print(input_sequence)"
      ],
      "metadata": {
        "colab": {
          "base_uri": "https://localhost:8080/"
        },
        "id": "XtrJ6rBxqvwE",
        "outputId": "e925cc83-0b87-4d90-8820-b7dbea5844fc"
      },
      "execution_count": 56,
      "outputs": [
        {
          "output_type": "stream",
          "name": "stdout",
          "text": [
            "361\n",
            "{'is': 1, 'for': 2, 'data': 3, 'model': 4, 'learning': 5, 'a': 6, 'in': 7, 'models': 8, 'and': 9, 'training': 10, 'sklearn': 11, 'used': 12, 'neural': 13, 'provides': 14, 'the': 15, 'popular': 16, 'to': 17, 'networks': 18, 'feature': 19, 'overfitting': 20, 'ensemble': 21, 'classification': 22, 'analysis': 23, 'reduces': 24, 'tasks': 25, 'machine': 26, 'pytorch': 27, 'offers': 28, 'when': 29, 'helps': 30, 'boosting': 31, 'regression': 32, 'clustering': 33, 'of': 34, 'handles': 35, 'features': 36, 'selection': 37, 'computing': 38, 'ai': 39, 'tools': 40, 'python': 41, 'learn': 42, 'algorithms': 43, 'tensorflow': 44, 'building': 45, 'high': 46, 'an': 47, 'are': 48, 'performance': 49, 'hyperparameter': 50, 'accuracy': 51, 'validation': 52, 'evaluates': 53, 'simple': 54, 'evaluation': 55, 'random': 56, 'with': 57, 'k': 58, 'algorithm': 59, 'binary': 60, 'dimensionality': 61, 'similar': 62, 'manage': 63, 'weights': 64, 'methods': 65, 'prevents': 66, 'distributed': 67, 'categorical': 68, 'encoding': 69, 'rates': 70, 'nlp': 71, 'text': 72, 'sentiment': 73, 'time': 74, 'series': 75, 'forecasting': 76, 'imbalanced': 77, 'precision': 78, 'recall': 79, 'search': 80, 'hyperparameters': 81, 'pipelines': 82, 'activation': 83, 'class': 84, 'cloud': 85, 'metrics': 86, 'preprocessing': 87, 'due': 88, 'simplicity': 89, 'scikit': 90, 'powerful': 91, 'library': 92, 'classical': 93, 'dynamic': 94, 'computation': 95, 'graphs': 96, 'pandas': 97, 'essential': 98, 'manipulation': 99, 'projects': 100, 'numpy': 101, 'supports': 102, 'large': 103, 'arrays': 104, 'matrices': 105, 'matplotlib': 106, 'visualization': 107, 'seaborn': 108, 'level': 109, 'interface': 110, 'plotting': 111, 'keras': 112, 'api': 113, 'jupyter': 114, 'notebooks': 115, 'ideal': 116, 'interactive': 117, 'experiments': 118, 'engineering': 119, 'improves': 120, 'cleaning': 121, 'first': 122, 'step': 123, 'any': 124, 'pipeline': 125, 'tuning': 126, 'boosts': 127, 'cross': 128, 'robustness': 129, 'occurs': 130, 'learns': 131, 'noise': 132, 'underfitting': 133, 'happens': 134, 'too': 135, 'regularization': 136, 'combat': 137, 'train': 138, 'test': 139, 'split': 140, 'fundamental': 141, 'forest': 142, 'method': 143, 'trees': 144, 'support': 145, 'vector': 146, 'machines': 147, 'work': 148, 'dimensional': 149, 'spaces': 150, 'nearest': 151, 'neighbors': 152, 'gradient': 153, 'combines': 154, 'weak': 155, 'learners': 156, 'effectively': 157, 'logistic': 158, 'linear': 159, 'basic': 160, 'naive': 161, 'bayes': 162, 'probabilistic': 163, 'classifier': 164, 'principal': 165, 'component': 166, 'group': 167, 'points': 168, 'means': 169, 'hierarchical': 170, 'builds': 171, 'tree': 172, 'clusters': 173, 'reinforcement': 174, 'trains': 175, 'agents': 176, 'make': 177, 'decisions': 178, 'deep': 179, 'mimic': 180, 'human': 181, 'brain': 182, 'convolutional': 183, 'excel': 184, 'image': 185, 'recurrent': 186, 'handle': 187, 'sequential': 188, 'lstms': 189, 'long': 190, 'term': 191, 'dependencies': 192, 'sequences': 193, 'transfer': 194, 'uses': 195, 'pre': 196, 'trained': 197, 'autoencoders': 198, 'unsupervised': 199, 'gans': 200, 'generate': 201, 'set': 202, 'improve': 203, 'predictions': 204, 'bagging': 205, 'variance': 206, 'bias': 207, 'adaboost': 208, 'technique': 209, 'xgboost': 210, 'known': 211, 'speed': 212, 'lightgbm': 213, 'efficient': 214, 'catboost': 215, 'automatically': 216, 'complexity': 217, 'one': 218, 'hot': 219, 'converts': 220, 'variables': 221, 'label': 222, 'assigns': 223, 'integers': 224, 'categories': 225, 'augmentation': 226, 'increases': 227, 'diversity': 228, 'batch': 229, 'normalization': 230, 'speeds': 231, 'up': 232, 'dropout': 233, 'rate': 234, 'schedules': 235, 'adjust': 236, 'during': 237, 'early': 238, 'stopping': 239, 'halts': 240, 'decreases': 241, 'checkpoints': 242, 'save': 243, 'best': 244, 'tensorboard': 245, 'visualizes': 246, 'lightning': 247, 'wrapper': 248, 'scipy': 249, 'scientific': 250, 'opencv': 251, 'computer': 252, 'vision': 253, 'applications': 254, 'use': 255, 'spacy': 256, 'nltk': 257, 'libraries': 258, 'bert': 259, 'state': 260, 'art': 261, 'tokenization': 262, 'splits': 263, 'into': 264, 'tokens': 265, 'word': 266, 'embeddings': 267, 'represent': 268, 'words': 269, 'as': 270, 'vectors': 271, 'determines': 272, 'predicts': 273, 'future': 274, 'arima': 275, 'prophet': 276, 'tool': 277, 'anomaly': 278, 'detection': 279, 'identifies': 280, 'rare': 281, 'events': 282, 'imputation': 283, 'fills': 284, 'missing': 285, 'values': 286, 'smote': 287, 'datasets': 288, 'roc': 289, 'curve': 290, 'assess': 291, 'f1': 292, 'score': 293, 'harmonic': 294, 'mean': 295, 'confusion': 296, 'matrix': 297, 'summarizes': 298, 'prediction': 299, 'results': 300, 'grid': 301, 'optimizes': 302, 'explores': 303, 'space': 304, 'bayesian': 305, 'optimization': 306, 'tunes': 307, 'efficiently': 308, 'scaling': 309, 'normalizes': 310, 'automate': 311, 'workflows': 312, 'dask': 313, 'enables': 314, 'parallel': 315, 'apache': 316, 'spark': 317, 'elu': 318, 'patterns': 319, 'leaky': 320, 'relu': 321, 'addresses': 322, \"'dying\": 323, \"relu'\": 324, 'problem': 325, 'sigmoid': 326, 'softmax': 327, 'multi': 328, 'adam': 329, 'optimizer': 330, 'rmsprop': 331, 'adapts': 332, 'sgd': 333, 'momentum': 334, 'accelerates': 335, 'gradients': 336, 'backpropagation': 337, 'updates': 338, 'network': 339, 'weight': 340, 'initialization': 341, 'affects': 342, 'convergence': 343, 'flow': 344, 'azure': 345, 'services': 346, 'google': 347, 'amazon': 348, 'sagemaker': 349, 'simplifies': 350, 'deployment': 351, 'ibm': 352, 'watson': 353, 'application': 354, 'has': 355, 'splitting': 356, 'imbalance': 357, 'decomposition': 358, 'reduction': 359, 'select': 360}\n",
            "[[ 0  0  0 ...  0 41  1]\n",
            " [ 0  0  0 ... 41  1 16]\n",
            " [ 0  0  0 ...  1 16  2]\n",
            " ...\n",
            " [ 0  0  0 ... 87  1 12]\n",
            " [ 0  0  0 ...  1 12  2]\n",
            " [ 0  0  0 ... 12  2 87]]\n"
          ]
        }
      ]
    },
    {
      "cell_type": "markdown",
      "source": [
        "# data preparing"
      ],
      "metadata": {
        "id": "GE7CMlKV86TT"
      }
    },
    {
      "cell_type": "code",
      "source": [
        "X=input_sequence[:,:-1]\n",
        "print(\"input Data\",X)\n",
        "y=input_sequence[:,-1]\n",
        "# print(\"Labels\",y)\n",
        "y=tf.keras.utils.to_categorical(y,num_classes=total_word)"
      ],
      "metadata": {
        "colab": {
          "base_uri": "https://localhost:8080/"
        },
        "id": "P_ir0-rtsEEd",
        "outputId": "055fabeb-0cf1-4731-be3b-568640b5528c"
      },
      "execution_count": 57,
      "outputs": [
        {
          "output_type": "stream",
          "name": "stdout",
          "text": [
            "input Data [[ 0  0  0 ...  0  0 41]\n",
            " [ 0  0  0 ...  0 41  1]\n",
            " [ 0  0  0 ... 41  1 16]\n",
            " ...\n",
            " [ 0  0  0 ... 11 87  1]\n",
            " [ 0  0  0 ... 87  1 12]\n",
            " [ 0  0  0 ...  1 12  2]]\n"
          ]
        }
      ]
    },
    {
      "cell_type": "code",
      "source": [
        "model=Sequential([\n",
        "    Embedding(total_word,10,input_length=max_sequence_len-1),\n",
        "    SimpleRNN(100),\n",
        "    Dense(total_word,activation='softmax')\n",
        "\n",
        "])"
      ],
      "metadata": {
        "id": "qrUj2WtY9Ig6"
      },
      "execution_count": 58,
      "outputs": []
    },
    {
      "cell_type": "code",
      "source": [
        "model.compile(loss='categorical_crossentropy',optimizer='adam',metrics=['accuracy'])"
      ],
      "metadata": {
        "id": "0OiirWnFBsGE"
      },
      "execution_count": 59,
      "outputs": []
    },
    {
      "cell_type": "code",
      "source": [
        "model.fit(X,y,epochs=50,verbose=1)"
      ],
      "metadata": {
        "colab": {
          "base_uri": "https://localhost:8080/"
        },
        "id": "cYm0Nvq-B7Ti",
        "outputId": "54f38481-3b59-4fcd-da37-6b24954e303d"
      },
      "execution_count": 60,
      "outputs": [
        {
          "output_type": "stream",
          "name": "stdout",
          "text": [
            "Epoch 1/50\n",
            "\u001b[1m16/16\u001b[0m \u001b[32m━━━━━━━━━━━━━━━━━━━━\u001b[0m\u001b[37m\u001b[0m \u001b[1m3s\u001b[0m 46ms/step - accuracy: 0.0226 - loss: 5.8693\n",
            "Epoch 2/50\n",
            "\u001b[1m16/16\u001b[0m \u001b[32m━━━━━━━━━━━━━━━━━━━━\u001b[0m\u001b[37m\u001b[0m \u001b[1m1s\u001b[0m 3ms/step - accuracy: 0.0703 - loss: 5.5309\n",
            "Epoch 3/50\n",
            "\u001b[1m16/16\u001b[0m \u001b[32m━━━━━━━━━━━━━━━━━━━━\u001b[0m\u001b[37m\u001b[0m \u001b[1m0s\u001b[0m 3ms/step - accuracy: 0.0630 - loss: 5.2905 \n",
            "Epoch 4/50\n",
            "\u001b[1m16/16\u001b[0m \u001b[32m━━━━━━━━━━━━━━━━━━━━\u001b[0m\u001b[37m\u001b[0m \u001b[1m0s\u001b[0m 3ms/step - accuracy: 0.0716 - loss: 5.2733 \n",
            "Epoch 5/50\n",
            "\u001b[1m16/16\u001b[0m \u001b[32m━━━━━━━━━━━━━━━━━━━━\u001b[0m\u001b[37m\u001b[0m \u001b[1m0s\u001b[0m 3ms/step - accuracy: 0.0613 - loss: 5.2528 \n",
            "Epoch 6/50\n",
            "\u001b[1m16/16\u001b[0m \u001b[32m━━━━━━━━━━━━━━━━━━━━\u001b[0m\u001b[37m\u001b[0m \u001b[1m0s\u001b[0m 3ms/step - accuracy: 0.0512 - loss: 5.3155 \n",
            "Epoch 7/50\n",
            "\u001b[1m16/16\u001b[0m \u001b[32m━━━━━━━━━━━━━━━━━━━━\u001b[0m\u001b[37m\u001b[0m \u001b[1m0s\u001b[0m 3ms/step - accuracy: 0.0664 - loss: 5.3040 \n",
            "Epoch 8/50\n",
            "\u001b[1m16/16\u001b[0m \u001b[32m━━━━━━━━━━━━━━━━━━━━\u001b[0m\u001b[37m\u001b[0m \u001b[1m0s\u001b[0m 3ms/step - accuracy: 0.0955 - loss: 5.2105 \n",
            "Epoch 9/50\n",
            "\u001b[1m16/16\u001b[0m \u001b[32m━━━━━━━━━━━━━━━━━━━━\u001b[0m\u001b[37m\u001b[0m \u001b[1m0s\u001b[0m 3ms/step - accuracy: 0.0822 - loss: 5.2170 \n",
            "Epoch 10/50\n",
            "\u001b[1m16/16\u001b[0m \u001b[32m━━━━━━━━━━━━━━━━━━━━\u001b[0m\u001b[37m\u001b[0m \u001b[1m0s\u001b[0m 3ms/step - accuracy: 0.0943 - loss: 5.1216 \n",
            "Epoch 11/50\n",
            "\u001b[1m16/16\u001b[0m \u001b[32m━━━━━━━━━━━━━━━━━━━━\u001b[0m\u001b[37m\u001b[0m \u001b[1m0s\u001b[0m 3ms/step - accuracy: 0.1017 - loss: 4.9825 \n",
            "Epoch 12/50\n",
            "\u001b[1m16/16\u001b[0m \u001b[32m━━━━━━━━━━━━━━━━━━━━\u001b[0m\u001b[37m\u001b[0m \u001b[1m0s\u001b[0m 3ms/step - accuracy: 0.1068 - loss: 4.9150 \n",
            "Epoch 13/50\n",
            "\u001b[1m16/16\u001b[0m \u001b[32m━━━━━━━━━━━━━━━━━━━━\u001b[0m\u001b[37m\u001b[0m \u001b[1m0s\u001b[0m 3ms/step - accuracy: 0.0883 - loss: 4.9087 \n",
            "Epoch 14/50\n",
            "\u001b[1m16/16\u001b[0m \u001b[32m━━━━━━━━━━━━━━━━━━━━\u001b[0m\u001b[37m\u001b[0m \u001b[1m0s\u001b[0m 3ms/step - accuracy: 0.0943 - loss: 4.8969 \n",
            "Epoch 15/50\n",
            "\u001b[1m16/16\u001b[0m \u001b[32m━━━━━━━━━━━━━━━━━━━━\u001b[0m\u001b[37m\u001b[0m \u001b[1m0s\u001b[0m 4ms/step - accuracy: 0.1012 - loss: 4.7670\n",
            "Epoch 16/50\n",
            "\u001b[1m16/16\u001b[0m \u001b[32m━━━━━━━━━━━━━━━━━━━━\u001b[0m\u001b[37m\u001b[0m \u001b[1m0s\u001b[0m 3ms/step - accuracy: 0.0992 - loss: 4.7319 \n",
            "Epoch 17/50\n",
            "\u001b[1m16/16\u001b[0m \u001b[32m━━━━━━━━━━━━━━━━━━━━\u001b[0m\u001b[37m\u001b[0m \u001b[1m0s\u001b[0m 3ms/step - accuracy: 0.1382 - loss: 4.4938 \n",
            "Epoch 18/50\n",
            "\u001b[1m16/16\u001b[0m \u001b[32m━━━━━━━━━━━━━━━━━━━━\u001b[0m\u001b[37m\u001b[0m \u001b[1m0s\u001b[0m 3ms/step - accuracy: 0.1178 - loss: 4.5679 \n",
            "Epoch 19/50\n",
            "\u001b[1m16/16\u001b[0m \u001b[32m━━━━━━━━━━━━━━━━━━━━\u001b[0m\u001b[37m\u001b[0m \u001b[1m0s\u001b[0m 3ms/step - accuracy: 0.0893 - loss: 4.6494 \n",
            "Epoch 20/50\n",
            "\u001b[1m16/16\u001b[0m \u001b[32m━━━━━━━━━━━━━━━━━━━━\u001b[0m\u001b[37m\u001b[0m \u001b[1m0s\u001b[0m 3ms/step - accuracy: 0.0938 - loss: 4.5670 \n",
            "Epoch 21/50\n",
            "\u001b[1m16/16\u001b[0m \u001b[32m━━━━━━━━━━━━━━━━━━━━\u001b[0m\u001b[37m\u001b[0m \u001b[1m0s\u001b[0m 3ms/step - accuracy: 0.1341 - loss: 4.3753 \n",
            "Epoch 22/50\n",
            "\u001b[1m16/16\u001b[0m \u001b[32m━━━━━━━━━━━━━━━━━━━━\u001b[0m\u001b[37m\u001b[0m \u001b[1m0s\u001b[0m 3ms/step - accuracy: 0.1147 - loss: 4.3701 \n",
            "Epoch 23/50\n",
            "\u001b[1m16/16\u001b[0m \u001b[32m━━━━━━━━━━━━━━━━━━━━\u001b[0m\u001b[37m\u001b[0m \u001b[1m0s\u001b[0m 3ms/step - accuracy: 0.1571 - loss: 4.2448 \n",
            "Epoch 24/50\n",
            "\u001b[1m16/16\u001b[0m \u001b[32m━━━━━━━━━━━━━━━━━━━━\u001b[0m\u001b[37m\u001b[0m \u001b[1m0s\u001b[0m 4ms/step - accuracy: 0.1608 - loss: 4.1815\n",
            "Epoch 25/50\n",
            "\u001b[1m16/16\u001b[0m \u001b[32m━━━━━━━━━━━━━━━━━━━━\u001b[0m\u001b[37m\u001b[0m \u001b[1m0s\u001b[0m 3ms/step - accuracy: 0.1384 - loss: 4.1684 \n",
            "Epoch 26/50\n",
            "\u001b[1m16/16\u001b[0m \u001b[32m━━━━━━━━━━━━━━━━━━━━\u001b[0m\u001b[37m\u001b[0m \u001b[1m0s\u001b[0m 3ms/step - accuracy: 0.1531 - loss: 4.0508 \n",
            "Epoch 27/50\n",
            "\u001b[1m16/16\u001b[0m \u001b[32m━━━━━━━━━━━━━━━━━━━━\u001b[0m\u001b[37m\u001b[0m \u001b[1m0s\u001b[0m 3ms/step - accuracy: 0.1516 - loss: 3.9853 \n",
            "Epoch 28/50\n",
            "\u001b[1m16/16\u001b[0m \u001b[32m━━━━━━━━━━━━━━━━━━━━\u001b[0m\u001b[37m\u001b[0m \u001b[1m0s\u001b[0m 3ms/step - accuracy: 0.1569 - loss: 3.9214 \n",
            "Epoch 29/50\n",
            "\u001b[1m16/16\u001b[0m \u001b[32m━━━━━━━━━━━━━━━━━━━━\u001b[0m\u001b[37m\u001b[0m \u001b[1m0s\u001b[0m 3ms/step - accuracy: 0.1884 - loss: 3.8645 \n",
            "Epoch 30/50\n",
            "\u001b[1m16/16\u001b[0m \u001b[32m━━━━━━━━━━━━━━━━━━━━\u001b[0m\u001b[37m\u001b[0m \u001b[1m0s\u001b[0m 3ms/step - accuracy: 0.1741 - loss: 3.8258 \n",
            "Epoch 31/50\n",
            "\u001b[1m16/16\u001b[0m \u001b[32m━━━━━━━━━━━━━━━━━━━━\u001b[0m\u001b[37m\u001b[0m \u001b[1m0s\u001b[0m 3ms/step - accuracy: 0.1927 - loss: 3.6412 \n",
            "Epoch 32/50\n",
            "\u001b[1m16/16\u001b[0m \u001b[32m━━━━━━━━━━━━━━━━━━━━\u001b[0m\u001b[37m\u001b[0m \u001b[1m0s\u001b[0m 3ms/step - accuracy: 0.2090 - loss: 3.5764 \n",
            "Epoch 33/50\n",
            "\u001b[1m16/16\u001b[0m \u001b[32m━━━━━━━━━━━━━━━━━━━━\u001b[0m\u001b[37m\u001b[0m \u001b[1m0s\u001b[0m 3ms/step - accuracy: 0.2332 - loss: 3.5352 \n",
            "Epoch 34/50\n",
            "\u001b[1m16/16\u001b[0m \u001b[32m━━━━━━━━━━━━━━━━━━━━\u001b[0m\u001b[37m\u001b[0m \u001b[1m0s\u001b[0m 3ms/step - accuracy: 0.2540 - loss: 3.4370 \n",
            "Epoch 35/50\n",
            "\u001b[1m16/16\u001b[0m \u001b[32m━━━━━━━━━━━━━━━━━━━━\u001b[0m\u001b[37m\u001b[0m \u001b[1m0s\u001b[0m 5ms/step - accuracy: 0.2320 - loss: 3.4604\n",
            "Epoch 36/50\n",
            "\u001b[1m16/16\u001b[0m \u001b[32m━━━━━━━━━━━━━━━━━━━━\u001b[0m\u001b[37m\u001b[0m \u001b[1m0s\u001b[0m 3ms/step - accuracy: 0.2448 - loss: 3.3992 \n",
            "Epoch 37/50\n",
            "\u001b[1m16/16\u001b[0m \u001b[32m━━━━━━━━━━━━━━━━━━━━\u001b[0m\u001b[37m\u001b[0m \u001b[1m0s\u001b[0m 3ms/step - accuracy: 0.2207 - loss: 3.3512 \n",
            "Epoch 38/50\n",
            "\u001b[1m16/16\u001b[0m \u001b[32m━━━━━━━━━━━━━━━━━━━━\u001b[0m\u001b[37m\u001b[0m \u001b[1m0s\u001b[0m 3ms/step - accuracy: 0.3190 - loss: 3.1844 \n",
            "Epoch 39/50\n",
            "\u001b[1m16/16\u001b[0m \u001b[32m━━━━━━━━━━━━━━━━━━━━\u001b[0m\u001b[37m\u001b[0m \u001b[1m0s\u001b[0m 3ms/step - accuracy: 0.3023 - loss: 3.1715 \n",
            "Epoch 40/50\n",
            "\u001b[1m16/16\u001b[0m \u001b[32m━━━━━━━━━━━━━━━━━━━━\u001b[0m\u001b[37m\u001b[0m \u001b[1m0s\u001b[0m 4ms/step - accuracy: 0.3430 - loss: 3.0479\n",
            "Epoch 41/50\n",
            "\u001b[1m16/16\u001b[0m \u001b[32m━━━━━━━━━━━━━━━━━━━━\u001b[0m\u001b[37m\u001b[0m \u001b[1m0s\u001b[0m 5ms/step - accuracy: 0.3464 - loss: 2.9431\n",
            "Epoch 42/50\n",
            "\u001b[1m16/16\u001b[0m \u001b[32m━━━━━━━━━━━━━━━━━━━━\u001b[0m\u001b[37m\u001b[0m \u001b[1m0s\u001b[0m 5ms/step - accuracy: 0.3160 - loss: 2.9999\n",
            "Epoch 43/50\n",
            "\u001b[1m16/16\u001b[0m \u001b[32m━━━━━━━━━━━━━━━━━━━━\u001b[0m\u001b[37m\u001b[0m \u001b[1m0s\u001b[0m 4ms/step - accuracy: 0.3892 - loss: 2.8188\n",
            "Epoch 44/50\n",
            "\u001b[1m16/16\u001b[0m \u001b[32m━━━━━━━━━━━━━━━━━━━━\u001b[0m\u001b[37m\u001b[0m \u001b[1m0s\u001b[0m 5ms/step - accuracy: 0.3720 - loss: 2.7718\n",
            "Epoch 45/50\n",
            "\u001b[1m16/16\u001b[0m \u001b[32m━━━━━━━━━━━━━━━━━━━━\u001b[0m\u001b[37m\u001b[0m \u001b[1m0s\u001b[0m 5ms/step - accuracy: 0.3821 - loss: 2.8087\n",
            "Epoch 46/50\n",
            "\u001b[1m16/16\u001b[0m \u001b[32m━━━━━━━━━━━━━━━━━━━━\u001b[0m\u001b[37m\u001b[0m \u001b[1m0s\u001b[0m 4ms/step - accuracy: 0.4389 - loss: 2.6560\n",
            "Epoch 47/50\n",
            "\u001b[1m16/16\u001b[0m \u001b[32m━━━━━━━━━━━━━━━━━━━━\u001b[0m\u001b[37m\u001b[0m \u001b[1m0s\u001b[0m 4ms/step - accuracy: 0.4117 - loss: 2.6549\n",
            "Epoch 48/50\n",
            "\u001b[1m16/16\u001b[0m \u001b[32m━━━━━━━━━━━━━━━━━━━━\u001b[0m\u001b[37m\u001b[0m \u001b[1m0s\u001b[0m 4ms/step - accuracy: 0.4308 - loss: 2.5260\n",
            "Epoch 49/50\n",
            "\u001b[1m16/16\u001b[0m \u001b[32m━━━━━━━━━━━━━━━━━━━━\u001b[0m\u001b[37m\u001b[0m \u001b[1m0s\u001b[0m 4ms/step - accuracy: 0.4630 - loss: 2.6002\n",
            "Epoch 50/50\n",
            "\u001b[1m16/16\u001b[0m \u001b[32m━━━━━━━━━━━━━━━━━━━━\u001b[0m\u001b[37m\u001b[0m \u001b[1m0s\u001b[0m 4ms/step - accuracy: 0.4602 - loss: 2.5514\n"
          ]
        },
        {
          "output_type": "execute_result",
          "data": {
            "text/plain": [
              "<keras.src.callbacks.history.History at 0x7d1a6659af20>"
            ]
          },
          "metadata": {},
          "execution_count": 60
        }
      ]
    },
    {
      "cell_type": "code",
      "source": [
        "def predict_next_word(seed_text,next_word=2):\n",
        "  for _ in range(next_word):\n",
        "    token_list=tokenizer.texts_to_sequences([seed_text])[0]\n",
        "    token_list=pad_sequences([token_list],maxlen=max_sequence_len,padding='pre')\n",
        "    predicted=model.predict(token_list,verbose=0)\n",
        "    predicted_word_index=np.argmax(predicted,axis=1)[0]\n",
        "    predicted_word=tokenizer.index_word[predicted_word_index]\n",
        "    seed_text+=\" \"+predicted_word\n",
        "\n",
        "  return seed_text\n"
      ],
      "metadata": {
        "id": "C6M2qS28CHEQ"
      },
      "execution_count": 61,
      "outputs": []
    },
    {
      "cell_type": "code",
      "source": [
        "print(predict_next_word(\"Linear\"))"
      ],
      "metadata": {
        "colab": {
          "base_uri": "https://localhost:8080/"
        },
        "id": "yiCoAb-7He-D",
        "outputId": "a23739d4-993a-4110-c4cf-3459c86d38b1"
      },
      "execution_count": 62,
      "outputs": [
        {
          "output_type": "stream",
          "name": "stdout",
          "text": [
            "Linear learning is\n"
          ]
        }
      ]
    },
    {
      "cell_type": "markdown",
      "source": [
        "# Building Long Short Term memory(LSTM)"
      ],
      "metadata": {
        "id": "c247G0sCJb06"
      }
    },
    {
      "cell_type": "code",
      "source": [
        "model=Sequential([\n",
        "    Embedding(total_word,10,input_length=max_sequence_len-1),\n",
        "    LSTM(100),\n",
        "    Dense(total_word,activation='softmax')\n",
        "\n",
        "])"
      ],
      "metadata": {
        "id": "pIve6T1uIAH8"
      },
      "execution_count": 63,
      "outputs": []
    },
    {
      "cell_type": "code",
      "source": [
        "model.compile(loss='categorical_crossentropy',optimizer='adam',metrics=['accuracy'])"
      ],
      "metadata": {
        "id": "biKBfDl-KsWN"
      },
      "execution_count": 64,
      "outputs": []
    },
    {
      "cell_type": "code",
      "source": [
        "model.fit(X,y,epochs=50,verbose=1)"
      ],
      "metadata": {
        "colab": {
          "base_uri": "https://localhost:8080/"
        },
        "id": "LOCx1PmKK3Sy",
        "outputId": "350542f7-620c-40fe-f4fd-4584e0cbebc5"
      },
      "execution_count": 65,
      "outputs": [
        {
          "output_type": "stream",
          "name": "stdout",
          "text": [
            "Epoch 1/50\n",
            "\u001b[1m16/16\u001b[0m \u001b[32m━━━━━━━━━━━━━━━━━━━━\u001b[0m\u001b[37m\u001b[0m \u001b[1m2s\u001b[0m 5ms/step - accuracy: 0.0307 - loss: 5.8871\n",
            "Epoch 2/50\n",
            "\u001b[1m16/16\u001b[0m \u001b[32m━━━━━━━━━━━━━━━━━━━━\u001b[0m\u001b[37m\u001b[0m \u001b[1m0s\u001b[0m 5ms/step - accuracy: 0.0414 - loss: 5.8379\n",
            "Epoch 3/50\n",
            "\u001b[1m16/16\u001b[0m \u001b[32m━━━━━━━━━━━━━━━━━━━━\u001b[0m\u001b[37m\u001b[0m \u001b[1m0s\u001b[0m 5ms/step - accuracy: 0.0692 - loss: 5.4147\n",
            "Epoch 4/50\n",
            "\u001b[1m16/16\u001b[0m \u001b[32m━━━━━━━━━━━━━━━━━━━━\u001b[0m\u001b[37m\u001b[0m \u001b[1m0s\u001b[0m 5ms/step - accuracy: 0.0541 - loss: 5.2848\n",
            "Epoch 5/50\n",
            "\u001b[1m16/16\u001b[0m \u001b[32m━━━━━━━━━━━━━━━━━━━━\u001b[0m\u001b[37m\u001b[0m \u001b[1m0s\u001b[0m 5ms/step - accuracy: 0.0542 - loss: 5.2682\n",
            "Epoch 6/50\n",
            "\u001b[1m16/16\u001b[0m \u001b[32m━━━━━━━━━━━━━━━━━━━━\u001b[0m\u001b[37m\u001b[0m \u001b[1m0s\u001b[0m 6ms/step - accuracy: 0.0488 - loss: 5.2454\n",
            "Epoch 7/50\n",
            "\u001b[1m16/16\u001b[0m \u001b[32m━━━━━━━━━━━━━━━━━━━━\u001b[0m\u001b[37m\u001b[0m \u001b[1m0s\u001b[0m 5ms/step - accuracy: 0.0469 - loss: 5.2894\n",
            "Epoch 8/50\n",
            "\u001b[1m16/16\u001b[0m \u001b[32m━━━━━━━━━━━━━━━━━━━━\u001b[0m\u001b[37m\u001b[0m \u001b[1m0s\u001b[0m 5ms/step - accuracy: 0.0615 - loss: 5.2897\n",
            "Epoch 9/50\n",
            "\u001b[1m16/16\u001b[0m \u001b[32m━━━━━━━━━━━━━━━━━━━━\u001b[0m\u001b[37m\u001b[0m \u001b[1m0s\u001b[0m 6ms/step - accuracy: 0.0565 - loss: 5.2264\n",
            "Epoch 10/50\n",
            "\u001b[1m16/16\u001b[0m \u001b[32m━━━━━━━━━━━━━━━━━━━━\u001b[0m\u001b[37m\u001b[0m \u001b[1m0s\u001b[0m 5ms/step - accuracy: 0.0718 - loss: 5.2192\n",
            "Epoch 11/50\n",
            "\u001b[1m16/16\u001b[0m \u001b[32m━━━━━━━━━━━━━━━━━━━━\u001b[0m\u001b[37m\u001b[0m \u001b[1m0s\u001b[0m 5ms/step - accuracy: 0.0691 - loss: 5.2463\n",
            "Epoch 12/50\n",
            "\u001b[1m16/16\u001b[0m \u001b[32m━━━━━━━━━━━━━━━━━━━━\u001b[0m\u001b[37m\u001b[0m \u001b[1m0s\u001b[0m 5ms/step - accuracy: 0.0797 - loss: 5.1670\n",
            "Epoch 13/50\n",
            "\u001b[1m16/16\u001b[0m \u001b[32m━━━━━━━━━━━━━━━━━━━━\u001b[0m\u001b[37m\u001b[0m \u001b[1m0s\u001b[0m 5ms/step - accuracy: 0.0876 - loss: 5.1552\n",
            "Epoch 14/50\n",
            "\u001b[1m16/16\u001b[0m \u001b[32m━━━━━━━━━━━━━━━━━━━━\u001b[0m\u001b[37m\u001b[0m \u001b[1m0s\u001b[0m 5ms/step - accuracy: 0.0791 - loss: 5.1197\n",
            "Epoch 15/50\n",
            "\u001b[1m16/16\u001b[0m \u001b[32m━━━━━━━━━━━━━━━━━━━━\u001b[0m\u001b[37m\u001b[0m \u001b[1m0s\u001b[0m 5ms/step - accuracy: 0.0709 - loss: 5.1312\n",
            "Epoch 16/50\n",
            "\u001b[1m16/16\u001b[0m \u001b[32m━━━━━━━━━━━━━━━━━━━━\u001b[0m\u001b[37m\u001b[0m \u001b[1m0s\u001b[0m 5ms/step - accuracy: 0.0950 - loss: 4.9837\n",
            "Epoch 17/50\n",
            "\u001b[1m16/16\u001b[0m \u001b[32m━━━━━━━━━━━━━━━━━━━━\u001b[0m\u001b[37m\u001b[0m \u001b[1m0s\u001b[0m 5ms/step - accuracy: 0.0921 - loss: 4.9815\n",
            "Epoch 18/50\n",
            "\u001b[1m16/16\u001b[0m \u001b[32m━━━━━━━━━━━━━━━━━━━━\u001b[0m\u001b[37m\u001b[0m \u001b[1m0s\u001b[0m 5ms/step - accuracy: 0.0731 - loss: 5.0092\n",
            "Epoch 19/50\n",
            "\u001b[1m16/16\u001b[0m \u001b[32m━━━━━━━━━━━━━━━━━━━━\u001b[0m\u001b[37m\u001b[0m \u001b[1m0s\u001b[0m 5ms/step - accuracy: 0.0837 - loss: 4.8413\n",
            "Epoch 20/50\n",
            "\u001b[1m16/16\u001b[0m \u001b[32m━━━━━━━━━━━━━━━━━━━━\u001b[0m\u001b[37m\u001b[0m \u001b[1m0s\u001b[0m 5ms/step - accuracy: 0.0916 - loss: 4.7902\n",
            "Epoch 21/50\n",
            "\u001b[1m16/16\u001b[0m \u001b[32m━━━━━━━━━━━━━━━━━━━━\u001b[0m\u001b[37m\u001b[0m \u001b[1m0s\u001b[0m 5ms/step - accuracy: 0.0744 - loss: 4.8546\n",
            "Epoch 22/50\n",
            "\u001b[1m16/16\u001b[0m \u001b[32m━━━━━━━━━━━━━━━━━━━━\u001b[0m\u001b[37m\u001b[0m \u001b[1m0s\u001b[0m 5ms/step - accuracy: 0.0738 - loss: 4.8241\n",
            "Epoch 23/50\n",
            "\u001b[1m16/16\u001b[0m \u001b[32m━━━━━━━━━━━━━━━━━━━━\u001b[0m\u001b[37m\u001b[0m \u001b[1m0s\u001b[0m 5ms/step - accuracy: 0.1012 - loss: 4.7477\n",
            "Epoch 24/50\n",
            "\u001b[1m16/16\u001b[0m \u001b[32m━━━━━━━━━━━━━━━━━━━━\u001b[0m\u001b[37m\u001b[0m \u001b[1m0s\u001b[0m 5ms/step - accuracy: 0.0916 - loss: 4.7329\n",
            "Epoch 25/50\n",
            "\u001b[1m16/16\u001b[0m \u001b[32m━━━━━━━━━━━━━━━━━━━━\u001b[0m\u001b[37m\u001b[0m \u001b[1m0s\u001b[0m 5ms/step - accuracy: 0.0895 - loss: 4.6708\n",
            "Epoch 26/50\n",
            "\u001b[1m16/16\u001b[0m \u001b[32m━━━━━━━━━━━━━━━━━━━━\u001b[0m\u001b[37m\u001b[0m \u001b[1m0s\u001b[0m 5ms/step - accuracy: 0.1087 - loss: 4.5466\n",
            "Epoch 27/50\n",
            "\u001b[1m16/16\u001b[0m \u001b[32m━━━━━━━━━━━━━━━━━━━━\u001b[0m\u001b[37m\u001b[0m \u001b[1m0s\u001b[0m 5ms/step - accuracy: 0.0871 - loss: 4.5553\n",
            "Epoch 28/50\n",
            "\u001b[1m16/16\u001b[0m \u001b[32m━━━━━━━━━━━━━━━━━━━━\u001b[0m\u001b[37m\u001b[0m \u001b[1m0s\u001b[0m 5ms/step - accuracy: 0.1185 - loss: 4.4567\n",
            "Epoch 29/50\n",
            "\u001b[1m16/16\u001b[0m \u001b[32m━━━━━━━━━━━━━━━━━━━━\u001b[0m\u001b[37m\u001b[0m \u001b[1m0s\u001b[0m 5ms/step - accuracy: 0.0887 - loss: 4.5586\n",
            "Epoch 30/50\n",
            "\u001b[1m16/16\u001b[0m \u001b[32m━━━━━━━━━━━━━━━━━━━━\u001b[0m\u001b[37m\u001b[0m \u001b[1m0s\u001b[0m 5ms/step - accuracy: 0.1067 - loss: 4.4934\n",
            "Epoch 31/50\n",
            "\u001b[1m16/16\u001b[0m \u001b[32m━━━━━━━━━━━━━━━━━━━━\u001b[0m\u001b[37m\u001b[0m \u001b[1m0s\u001b[0m 5ms/step - accuracy: 0.1065 - loss: 4.4516\n",
            "Epoch 32/50\n",
            "\u001b[1m16/16\u001b[0m \u001b[32m━━━━━━━━━━━━━━━━━━━━\u001b[0m\u001b[37m\u001b[0m \u001b[1m0s\u001b[0m 5ms/step - accuracy: 0.1194 - loss: 4.3886\n",
            "Epoch 33/50\n",
            "\u001b[1m16/16\u001b[0m \u001b[32m━━━━━━━━━━━━━━━━━━━━\u001b[0m\u001b[37m\u001b[0m \u001b[1m0s\u001b[0m 6ms/step - accuracy: 0.1153 - loss: 4.3763\n",
            "Epoch 34/50\n",
            "\u001b[1m16/16\u001b[0m \u001b[32m━━━━━━━━━━━━━━━━━━━━\u001b[0m\u001b[37m\u001b[0m \u001b[1m0s\u001b[0m 5ms/step - accuracy: 0.1377 - loss: 4.2561\n",
            "Epoch 35/50\n",
            "\u001b[1m16/16\u001b[0m \u001b[32m━━━━━━━━━━━━━━━━━━━━\u001b[0m\u001b[37m\u001b[0m \u001b[1m0s\u001b[0m 5ms/step - accuracy: 0.1241 - loss: 4.2727\n",
            "Epoch 36/50\n",
            "\u001b[1m16/16\u001b[0m \u001b[32m━━━━━━━━━━━━━━━━━━━━\u001b[0m\u001b[37m\u001b[0m \u001b[1m0s\u001b[0m 5ms/step - accuracy: 0.1402 - loss: 4.1802\n",
            "Epoch 37/50\n",
            "\u001b[1m16/16\u001b[0m \u001b[32m━━━━━━━━━━━━━━━━━━━━\u001b[0m\u001b[37m\u001b[0m \u001b[1m0s\u001b[0m 5ms/step - accuracy: 0.1473 - loss: 4.1643\n",
            "Epoch 38/50\n",
            "\u001b[1m16/16\u001b[0m \u001b[32m━━━━━━━━━━━━━━━━━━━━\u001b[0m\u001b[37m\u001b[0m \u001b[1m0s\u001b[0m 5ms/step - accuracy: 0.1479 - loss: 4.0878\n",
            "Epoch 39/50\n",
            "\u001b[1m16/16\u001b[0m \u001b[32m━━━━━━━━━━━━━━━━━━━━\u001b[0m\u001b[37m\u001b[0m \u001b[1m0s\u001b[0m 5ms/step - accuracy: 0.1518 - loss: 4.0489\n",
            "Epoch 40/50\n",
            "\u001b[1m16/16\u001b[0m \u001b[32m━━━━━━━━━━━━━━━━━━━━\u001b[0m\u001b[37m\u001b[0m \u001b[1m0s\u001b[0m 5ms/step - accuracy: 0.1416 - loss: 4.0077\n",
            "Epoch 41/50\n",
            "\u001b[1m16/16\u001b[0m \u001b[32m━━━━━━━━━━━━━━━━━━━━\u001b[0m\u001b[37m\u001b[0m \u001b[1m0s\u001b[0m 6ms/step - accuracy: 0.1436 - loss: 3.9783\n",
            "Epoch 42/50\n",
            "\u001b[1m16/16\u001b[0m \u001b[32m━━━━━━━━━━━━━━━━━━━━\u001b[0m\u001b[37m\u001b[0m \u001b[1m0s\u001b[0m 5ms/step - accuracy: 0.1598 - loss: 3.9766\n",
            "Epoch 43/50\n",
            "\u001b[1m16/16\u001b[0m \u001b[32m━━━━━━━━━━━━━━━━━━━━\u001b[0m\u001b[37m\u001b[0m \u001b[1m0s\u001b[0m 5ms/step - accuracy: 0.1628 - loss: 3.8501\n",
            "Epoch 44/50\n",
            "\u001b[1m16/16\u001b[0m \u001b[32m━━━━━━━━━━━━━━━━━━━━\u001b[0m\u001b[37m\u001b[0m \u001b[1m0s\u001b[0m 5ms/step - accuracy: 0.1494 - loss: 3.8119\n",
            "Epoch 45/50\n",
            "\u001b[1m16/16\u001b[0m \u001b[32m━━━━━━━━━━━━━━━━━━━━\u001b[0m\u001b[37m\u001b[0m \u001b[1m0s\u001b[0m 5ms/step - accuracy: 0.1696 - loss: 3.7678\n",
            "Epoch 46/50\n",
            "\u001b[1m16/16\u001b[0m \u001b[32m━━━━━━━━━━━━━━━━━━━━\u001b[0m\u001b[37m\u001b[0m \u001b[1m0s\u001b[0m 5ms/step - accuracy: 0.1831 - loss: 3.7195\n",
            "Epoch 47/50\n",
            "\u001b[1m16/16\u001b[0m \u001b[32m━━━━━━━━━━━━━━━━━━━━\u001b[0m\u001b[37m\u001b[0m \u001b[1m0s\u001b[0m 5ms/step - accuracy: 0.1455 - loss: 3.7392\n",
            "Epoch 48/50\n",
            "\u001b[1m16/16\u001b[0m \u001b[32m━━━━━━━━━━━━━━━━━━━━\u001b[0m\u001b[37m\u001b[0m \u001b[1m0s\u001b[0m 5ms/step - accuracy: 0.1840 - loss: 3.6440\n",
            "Epoch 49/50\n",
            "\u001b[1m16/16\u001b[0m \u001b[32m━━━━━━━━━━━━━━━━━━━━\u001b[0m\u001b[37m\u001b[0m \u001b[1m0s\u001b[0m 5ms/step - accuracy: 0.1612 - loss: 3.6569\n",
            "Epoch 50/50\n",
            "\u001b[1m16/16\u001b[0m \u001b[32m━━━━━━━━━━━━━━━━━━━━\u001b[0m\u001b[37m\u001b[0m \u001b[1m0s\u001b[0m 5ms/step - accuracy: 0.1907 - loss: 3.5997\n"
          ]
        },
        {
          "output_type": "execute_result",
          "data": {
            "text/plain": [
              "<keras.src.callbacks.history.History at 0x7d1a6a64dfc0>"
            ]
          },
          "metadata": {},
          "execution_count": 65
        }
      ]
    },
    {
      "cell_type": "code",
      "source": [
        "def predict_next_word(seed_text,next_word=2):\n",
        "  for _ in range(next_word):\n",
        "    token_list=tokenizer.texts_to_sequences([seed_text])[0]\n",
        "    token_list=pad_sequences([token_list],maxlen=max_sequence_len,padding='pre')\n",
        "    predicted=model.predict(token_list,verbose=0)\n",
        "    predicted_word_index=np.argmax(predicted,axis=1)[0]\n",
        "    predicted_word=tokenizer.index_word[predicted_word_index]\n",
        "    seed_text+=\" \"+predicted_word\n",
        "\n",
        "  return seed_text\n"
      ],
      "metadata": {
        "id": "QUgA9qcbLFdj"
      },
      "execution_count": 66,
      "outputs": []
    },
    {
      "cell_type": "code",
      "source": [
        "print(predict_next_word(\"Linear Regression\"))"
      ],
      "metadata": {
        "colab": {
          "base_uri": "https://localhost:8080/"
        },
        "id": "xW6FFLD9LGqf",
        "outputId": "2f5a62f7-2b0b-4685-f77f-850aac387808"
      },
      "execution_count": 69,
      "outputs": [
        {
          "output_type": "stream",
          "name": "stdout",
          "text": [
            "Linear Regression is a\n"
          ]
        }
      ]
    },
    {
      "cell_type": "code",
      "source": [],
      "metadata": {
        "id": "7JKDqSbcLLNo"
      },
      "execution_count": 67,
      "outputs": []
    }
  ]
}